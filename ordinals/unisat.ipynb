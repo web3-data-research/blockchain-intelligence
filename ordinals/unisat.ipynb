{
 "cells": [
  {
   "cell_type": "code",
   "execution_count": 1,
   "metadata": {},
   "outputs": [],
   "source": [
    "import os\n",
    "\n",
    "with open('./.env', 'r') as f:\n",
    "    # read the whole file to a string\n",
    "    envs = f.read()\n",
    "    # read line and parse\n",
    "    for line in envs.splitlines():\n",
    "        # skip empty lines\n",
    "        if not line:\n",
    "            continue\n",
    "        # skip comments\n",
    "        if line.startswith('#'):\n",
    "            continue\n",
    "        # parse env vars\n",
    "        key, value = line.split('=', 1)\n",
    "        os.environ[key] = value\n",
    "\n",
    "    f.close()"
   ]
  }
 ],
 "metadata": {
  "kernelspec": {
   "display_name": ".venv",
   "language": "python",
   "name": "python3"
  },
  "language_info": {
   "codemirror_mode": {
    "name": "ipython",
    "version": 3
   },
   "file_extension": ".py",
   "mimetype": "text/x-python",
   "name": "python",
   "nbconvert_exporter": "python",
   "pygments_lexer": "ipython3",
   "version": "3.10.11"
  }
 },
 "nbformat": 4,
 "nbformat_minor": 2
}
